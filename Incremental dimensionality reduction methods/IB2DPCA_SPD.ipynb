{
 "cells": [
  {
   "cell_type": "code",
   "execution_count": 1,
   "metadata": {},
   "outputs": [],
   "source": [
    "import scipy\n",
    "import numpy as np"
   ]
  },
  {
   "cell_type": "code",
   "execution_count": 2,
   "metadata": {},
   "outputs": [],
   "source": [
    "import pyriemann\n",
    "def RM_M_G(data):\n",
    "    RM_M=pyriemann.estimation.Covariances('scm').fit_transform(data)\n",
    "    return RM_M"
   ]
  },
  {
   "cell_type": "code",
   "execution_count": 3,
   "metadata": {},
   "outputs": [],
   "source": [
    "def LogmTranfer(mySPDdata):\n",
    "    Dimension_1=len(mySPDdata)\n",
    "    Dimension_2=len(mySPDdata[1])\n",
    "    myRMlog=np.zeros((Dimension_1,Dimension_2,Dimension_2))\n",
    "    for i in range(len(mySPDdata)):\n",
    "        myRMlog[i]=scipy.linalg.logm(mySPDdata[i], disp=True)#\n",
    "    return myRMlog"
   ]
  },
  {
   "cell_type": "code",
   "execution_count": 4,
   "metadata": {},
   "outputs": [],
   "source": [
    "# output the cov for 3D SPD data (N, n, n)\n",
    "def cov_3D(samples):\n",
    "    size = samples[0].shape\n",
    "    # m*n matrix\n",
    "    mean = np.zeros(size)\n",
    "\n",
    "    for s in samples:\n",
    "        mean = mean + s\n",
    "\n",
    "    # get the mean of all samples\n",
    "    mean /= float(len(samples))\n",
    "\n",
    "    # n*n matrix\n",
    "    cov_row = np.zeros((size[1],size[1]))\n",
    "    for s in samples:\n",
    "        diff = s - mean;\n",
    "        cov_row = cov_row + np.dot(diff.T, diff)\n",
    "    cov_row /= float(len(samples))\n",
    "    return cov_row"
   ]
  },
  {
   "cell_type": "code",
   "execution_count": 5,
   "metadata": {},
   "outputs": [],
   "source": [
    "def PCA2D_BYCOV(cov_row, row_top):#  return X, Z\n",
    "    row_eval, row_evec = np.linalg.eigh(cov_row)\n",
    "    # select the top t evals\n",
    "    sorted_index = np.argsort(row_eval)\n",
    "    # using slice operation to reverse\n",
    "    X = row_evec[:,sorted_index[:-row_top-1 : -1]]\n",
    "    Z=X\n",
    "    return X, Z"
   ]
  },
  {
   "cell_type": "code",
   "execution_count": 6,
   "metadata": {},
   "outputs": [],
   "source": [
    "def PCA_DATA(X_THIS,Z_THIS,data,wantaftersize):\n",
    "    data_R=np.zeros((len(data),wantaftersize,wantaftersize))\n",
    "    for sz in range(len(data)):\n",
    "        data_R[sz] = np.dot(Z_THIS.T, np.dot(data[sz], X_THIS))\n",
    "    return data_R"
   ]
  },
  {
   "cell_type": "code",
   "execution_count": 7,
   "metadata": {},
   "outputs": [],
   "source": [
    "#size_af,meanall,g_all,cov_all\n",
    "def IB2DPCA_Update(mean_before,g_squre_before, length_before ,samples_update):\n",
    "    '''update samples are 2d matrices'''  \n",
    "    size2 = samples_update[0].shape\n",
    "    # m*n matrix\n",
    "    sum2 = np.zeros(size2)\n",
    "    g2=np.zeros(size2)\n",
    "    for sp in samples_update:\n",
    "        sum2 = sum2 + sp\n",
    "        g2=g2+np.dot(sp,sp.T)\n",
    "    mean2=sum2 / float(len(samples_update))\n",
    "    # meanall1=(sum+sum2)/ float(len(samples)+len(samples_update))\n",
    "    meanall=length_before/(float(length_before+len(samples_update)))*mean_before+1/((float(length_before+len(samples_update))))*len(samples_update)*mean2\n",
    "    g_all=g_squre_before+g2\n",
    "    cov_all=g_all-(length_before+len(samples_update))*(np.dot(meanall,meanall.T))\n",
    "    cov_all=cov_all/float(len(samples_update)+length_before)\n",
    "    size_af=len(samples_update)+length_before\n",
    "\n",
    "    return size_af,meanall,g_all,cov_all\n"
   ]
  },
  {
   "cell_type": "code",
   "execution_count": 8,
   "metadata": {},
   "outputs": [],
   "source": [
    "\n",
    "def get_top_eigenpairs(cov_matrix, n_top):\n",
    "    eigenvalues, eigenvectors = np.linalg.eigh(cov_matrix)\n",
    "    top_eigenvalues = eigenvalues[-n_top:][::-1]\n",
    "    top_eigenvectors = eigenvectors[:, -n_top:][:, ::-1]\n",
    "\n",
    "    return top_eigenvalues, top_eigenvectors"
   ]
  },
  {
   "cell_type": "code",
   "execution_count": 9,
   "metadata": {},
   "outputs": [
    {
     "name": "stdout",
     "output_type": "stream",
     "text": [
      "size   100   mean   (22, 22)  g (22, 22)     s (22, 22)\n",
      "(100, 18, 18)\n"
     ]
    }
   ],
   "source": [
    "# Generate a random array with shape (100, 22, 1000)\n",
    "np.random.seed(42)\n",
    "offline_data = np.random.rand(100, 22, 1000)\n",
    "offline_data=RM_M_G(offline_data)\n",
    "\n",
    "offline_data=LogmTranfer(offline_data)\n",
    "size,mean,g,s=IB2DPCA_Update(mean_before=0,g_squre_before=0,length_before=0,samples_update=offline_data)\n",
    "print('size  ',size,'  mean  ',mean.shape,' g',g.shape,'    s',s.shape)\n",
    "X,Z=PCA2D_BYCOV(s,18)\n",
    "\n",
    "offline_data_R=PCA_DATA(X,Z,offline_data,18)\n",
    "print(offline_data_R.shape)\n",
    "\n",
    "s_batch=cov_3D(offline_data)"
   ]
  },
  {
   "cell_type": "code",
   "execution_count": 10,
   "metadata": {},
   "outputs": [
    {
     "data": {
      "text/plain": [
       "array([0.02610867, 0.02554657, 0.02544378, 0.02482334])"
      ]
     },
     "execution_count": 10,
     "metadata": {},
     "output_type": "execute_result"
    }
   ],
   "source": [
    "v,ve=get_top_eigenpairs(s,4)\n",
    "v"
   ]
  },
  {
   "cell_type": "code",
   "execution_count": 11,
   "metadata": {},
   "outputs": [
    {
     "data": {
      "text/plain": [
       "array([0.02610867, 0.02554657, 0.02544378, 0.02482334])"
      ]
     },
     "execution_count": 11,
     "metadata": {},
     "output_type": "execute_result"
    }
   ],
   "source": [
    "v,ve=get_top_eigenpairs(s_batch,4)\n",
    "v"
   ]
  },
  {
   "cell_type": "code",
   "execution_count": 12,
   "metadata": {},
   "outputs": [
    {
     "name": "stdout",
     "output_type": "stream",
     "text": [
      "size   200   mean   (22, 22)  g (22, 22)     s (22, 22)\n",
      "(100, 18, 18)\n"
     ]
    }
   ],
   "source": [
    "# Generate a random array with shape (100, 22, 1000)\n",
    "np.random.seed(24)\n",
    "\n",
    "online_data = np.random.rand(100, 22, 1000)\n",
    "online_data=RM_M_G(online_data)\n",
    "online_data=LogmTranfer(online_data)\n",
    "\n",
    "#IB2DPCA ONLY using online_data\n",
    "size2,mean2,g2,s2=IB2DPCA_Update(mean_before=mean,g_squre_before=g,length_before=size,samples_update=online_data)\n",
    "print('size  ',size2,'  mean  ',mean2.shape,' g',g2.shape,'    s',s2.shape)\n",
    "X2,Z2=PCA2D_BYCOV(s2,18)\n",
    "\n",
    "online_data_R=PCA_DATA(X2,Z2,online_data,18)\n",
    "print(online_data_R.shape)\n",
    "\n",
    "#using offline_data and online_data\n",
    "s_batch2=cov_3D(np.concatenate([offline_data,online_data],axis=0))"
   ]
  },
  {
   "cell_type": "code",
   "execution_count": 13,
   "metadata": {},
   "outputs": [
    {
     "data": {
      "text/plain": [
       "array([0.02476323, 0.02434726, 0.02416686, 0.02375289])"
      ]
     },
     "execution_count": 13,
     "metadata": {},
     "output_type": "execute_result"
    }
   ],
   "source": [
    "v,ve=get_top_eigenpairs(s2,4)\n",
    "v"
   ]
  },
  {
   "cell_type": "code",
   "execution_count": 14,
   "metadata": {},
   "outputs": [
    {
     "data": {
      "text/plain": [
       "array([0.02476323, 0.02434726, 0.02416686, 0.02375289])"
      ]
     },
     "execution_count": 14,
     "metadata": {},
     "output_type": "execute_result"
    }
   ],
   "source": [
    "v,ve=get_top_eigenpairs(s_batch2,4)\n",
    "v"
   ]
  },
  {
   "cell_type": "code",
   "execution_count": null,
   "metadata": {},
   "outputs": [],
   "source": []
  },
  {
   "cell_type": "code",
   "execution_count": null,
   "metadata": {},
   "outputs": [],
   "source": []
  },
  {
   "cell_type": "code",
   "execution_count": null,
   "metadata": {},
   "outputs": [],
   "source": []
  }
 ],
 "metadata": {
  "kernelspec": {
   "display_name": "yj",
   "language": "python",
   "name": "python3"
  },
  "language_info": {
   "codemirror_mode": {
    "name": "ipython",
    "version": 3
   },
   "file_extension": ".py",
   "mimetype": "text/x-python",
   "name": "python",
   "nbconvert_exporter": "python",
   "pygments_lexer": "ipython3",
   "version": "3.8.13"
  }
 },
 "nbformat": 4,
 "nbformat_minor": 2
}
